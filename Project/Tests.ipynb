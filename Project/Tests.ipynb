{
 "cells": [
  {
   "cell_type": "code",
   "execution_count": 2,
   "metadata": {
    "collapsed": true
   },
   "outputs": [],
   "source": [
    "from ImageCalculator import DigitCalculator\n",
    "import os\n",
    "import tensorflow.keras as keras\n",
    "import matplotlib.pyplot as plt\n",
    "import cv2\n",
    "from matplotlib import pyplot as plt\n",
    "import numpy as np\n",
    "\n",
    "import ast\n",
    "import operator"
   ]
  },
  {
   "cell_type": "code",
   "execution_count": 3,
   "outputs": [
    {
     "name": "stdout",
     "output_type": "stream",
     "text": [
      "[INFO] examining component 2/4\n",
      "[INFO] examining component 3/4\n",
      "[INFO] examining component 4/4\n"
     ]
    },
    {
     "name": "stderr",
     "output_type": "stream",
     "text": [
      "E:\\Programming\\Python\\Kagel_Work\\.venv\\lib\\site-packages\\numpy\\core\\_asarray.py:136: VisibleDeprecationWarning: Creating an ndarray from ragged nested sequences (which is a list-or-tuple of lists-or-tuples-or ndarrays with different lengths or shapes) is deprecated. If you meant to do this, you must specify 'dtype=object' when creating the ndarray\n",
      "  return array(a, dtype, copy=False, order=order, subok=True)\n"
     ]
    },
    {
     "data": {
      "text/plain": "10"
     },
     "execution_count": 3,
     "metadata": {},
     "output_type": "execute_result"
    }
   ],
   "source": [
    "\n",
    "\n",
    "tmp = DigitCalculator()\n",
    "image = cv2.imread('./data/Unbenannt.jpg')\n",
    "#plt.imshow(image,cmap = 'gray')\n",
    "asd = tmp.CalculateImage(image)\n",
    "asd"
   ],
   "metadata": {
    "collapsed": false,
    "pycharm": {
     "name": "#%%\n"
    }
   }
  },
  {
   "cell_type": "code",
   "execution_count": 3,
   "outputs": [
    {
     "name": "stdout",
     "output_type": "stream",
     "text": [
      "('9', array([11], dtype=int64))\n"
     ]
    }
   ],
   "source": [
    "model = keras.models.load_model('./models/Digit_Recognizer')\n",
    "train_set = {'+': 0,\n",
    " '-': 1,\n",
    " '0': 2,\n",
    " '1': 3,\n",
    " '2': 4,\n",
    " '3': 5,\n",
    " '4': 6,\n",
    " '5': 7,\n",
    " '6': 8,\n",
    " '7': 9,\n",
    " '8': 10,\n",
    " '9': 11}\n",
    "def prediction(img):\n",
    "    img =cv2.cvtColor(img, cv2.COLOR_BGR2GRAY)\n",
    "    #plt.imshow(img, cmap = 'gray')\n",
    "    img = cv2.resize(img,(40, 40))\n",
    "    norm_image = cv2.normalize(img, None, alpha = 0, beta = 1, norm_type = cv2.NORM_MINMAX, dtype = cv2.CV_32F)\n",
    "    norm_image=img/255\n",
    "    norm_image = norm_image.reshape((norm_image.shape[0], norm_image.shape[1], 1))\n",
    "    case = np.asarray([norm_image])\n",
    "    pred = np.argmax(model.predict([case]), axis=-1)\n",
    "    return ([i for i in train_set if train_set[i]==(pred[0])][0],pred)\n",
    "\n",
    "image = cv2.imread('././././data/singlenumber.JPG')\n",
    "#image = cv2.imread('././././data/singlenumber.JPG',cv2.IMREAD_GRAYSCALE)\n",
    "\n",
    "print(prediction(image))\n",
    "# for image in asd:\n",
    "#     image =cv2.cvtColor(image, cv2.COLOR_BGR2GRAY)\n",
    "#     print(prediction(image))"
   ],
   "metadata": {
    "collapsed": false,
    "pycharm": {
     "name": "#%%\n"
    }
   }
  }
 ],
 "metadata": {
  "kernelspec": {
   "display_name": "PyCharm (AI_Tutorial)",
   "language": "python",
   "name": "pycharm-8429fb31"
  },
  "language_info": {
   "codemirror_mode": {
    "name": "ipython",
    "version": 2
   },
   "file_extension": ".py",
   "mimetype": "text/x-python",
   "name": "python",
   "nbconvert_exporter": "python",
   "pygments_lexer": "ipython2",
   "version": "2.7.6"
  }
 },
 "nbformat": 4,
 "nbformat_minor": 0
}