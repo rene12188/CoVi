{
 "cells": [
  {
   "cell_type": "code",
   "execution_count": 2,
   "outputs": [],
   "source": [
    "import tensorflow.keras as keras\n",
    "from tensorflow.keras import preprocessing\n",
    "import tensorflow as tf\n",
    "import numpy as np\n",
    "import pandas as pd\n",
    "from sklearn.model_selection import train_test_split\n",
    "from PIL import Image\n",
    "import matplotlib.pyplot as plt\n",
    "from sklearn.preprocessing import LabelEncoder"
   ],
   "metadata": {
    "collapsed": false,
    "pycharm": {
     "name": "#%%\n"
    }
   }
  },
  {
   "cell_type": "code",
   "execution_count": 9,
   "outputs": [],
   "source": [
    "tmp = Image.open(\"./data/1/1_1_0.png\")\n",
    "num_channel = len(tmp.split())\n",
    "Y = [1]\n",
    "model = keras.Sequential()\n",
    "model.add(keras.layers.InputLayer( input_shape=(28,28)))\n",
    "model.add(keras.layers.Dense(28*28, activation=\"relu\"))\n",
    "model.add(keras.layers.Dense(128, activation=\"relu\"))\n",
    "model.add(keras.layers.Dense(12, activation=\"softmax\"))\n",
    "\n",
    "model.compile(\n",
    "    optimizer='adam',\n",
    "    loss='categorical_crossentropy',\n",
    "    metrics = [\"accuracy\"]\n",
    ")"
   ],
   "metadata": {
    "collapsed": false,
    "pycharm": {
     "name": "#%%\n"
    }
   }
  },
  {
   "cell_type": "code",
   "execution_count": 36,
   "outputs": [],
   "source": [
    "df = pd.read_csv(\"./heelo.csv\")\n",
    "df = df.T\n",
    "#df = df.iloc[1: , :]\n",
    "df[1] = df[1].apply(pd.to_numeric)\n",
    "df = df.sort_values(by=[1])"
   ],
   "metadata": {
    "collapsed": false,
    "pycharm": {
     "name": "#%%\n"
    }
   }
  },
  {
   "cell_type": "code",
   "execution_count": 37,
   "outputs": [
    {
     "data": {
      "text/plain": "                                                            0    1\nUnnamed: 0                                                  0    1\n1           [[[255 255 255]\\n  [255 255 255]\\n  [255 255 2...   18\n2           [[[255 255 255]\\n  [255 255 255]\\n  [255 255 2...  159\n0           [[[255 255 255]\\n  [254 254 254]\\n  [255 255 2...  263",
      "text/html": "<div>\n<style scoped>\n    .dataframe tbody tr th:only-of-type {\n        vertical-align: middle;\n    }\n\n    .dataframe tbody tr th {\n        vertical-align: top;\n    }\n\n    .dataframe thead th {\n        text-align: right;\n    }\n</style>\n<table border=\"1\" class=\"dataframe\">\n  <thead>\n    <tr style=\"text-align: right;\">\n      <th></th>\n      <th>0</th>\n      <th>1</th>\n    </tr>\n  </thead>\n  <tbody>\n    <tr>\n      <th>Unnamed: 0</th>\n      <td>0</td>\n      <td>1</td>\n    </tr>\n    <tr>\n      <th>1</th>\n      <td>[[[255 255 255]\\n  [255 255 255]\\n  [255 255 2...</td>\n      <td>18</td>\n    </tr>\n    <tr>\n      <th>2</th>\n      <td>[[[255 255 255]\\n  [255 255 255]\\n  [255 255 2...</td>\n      <td>159</td>\n    </tr>\n    <tr>\n      <th>0</th>\n      <td>[[[255 255 255]\\n  [254 254 254]\\n  [255 255 2...</td>\n      <td>263</td>\n    </tr>\n  </tbody>\n</table>\n</div>"
     },
     "execution_count": 37,
     "metadata": {},
     "output_type": "execute_result"
    }
   ],
   "source": [
    "df\n"
   ],
   "metadata": {
    "collapsed": false,
    "pycharm": {
     "name": "#%%\n"
    }
   }
  }
 ],
 "metadata": {
  "kernelspec": {
   "display_name": "PyCharm (AI_Tutorial)",
   "language": "python",
   "name": "pycharm-8429fb31"
  },
  "language_info": {
   "codemirror_mode": {
    "name": "ipython",
    "version": 2
   },
   "file_extension": ".py",
   "mimetype": "text/x-python",
   "name": "python",
   "nbconvert_exporter": "python",
   "pygments_lexer": "ipython2",
   "version": "2.7.6"
  }
 },
 "nbformat": 4,
 "nbformat_minor": 0
}