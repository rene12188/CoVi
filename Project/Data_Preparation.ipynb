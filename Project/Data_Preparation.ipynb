{
 "cells": [
  {
   "cell_type": "code",
   "execution_count": 2,
   "metadata": {
    "collapsed": true
   },
   "outputs": [],
   "source": [
    "import numpy as np\n",
    "\n",
    "import pandas as pd\n",
    "import matplotlib.pyplot as plt\n",
    "import seaborn as sns\n",
    "from PIL import Image\n",
    "import glob\n",
    "import os"
   ]
  },
  {
   "cell_type": "code",
   "execution_count": 3,
   "outputs": [],
   "source": [
    "def extract_class(path):\n",
    "    tmp = path.split(\"\\\\\")\n",
    "    return tmp[1]"
   ],
   "metadata": {
    "collapsed": false,
    "pycharm": {
     "name": "#%%\n"
    }
   }
  },
  {
   "cell_type": "code",
   "execution_count": 5,
   "outputs": [
    {
     "name": "stdout",
     "output_type": "stream",
     "text": [
      "Files done: 0, in 250141 \n",
      "Files done: 1000, in 250141 \n",
      "Files done: 2000, in 250141 \n",
      "Files done: 3000, in 250141 \n",
      "Files done: 4000, in 250141 \n",
      "Files done: 5000, in 250141 \n",
      "Files done: 6000, in 250141 \n",
      "Files done: 7000, in 250141 \n",
      "Files done: 8000, in 250141 \n",
      "Files done: 9000, in 250141 \n",
      "Files done: 10000, in 250141 \n",
      "Files done: 11000, in 250141 \n",
      "Files done: 12000, in 250141 \n",
      "Files done: 13000, in 250141 \n",
      "Files done: 14000, in 250141 \n",
      "Files done: 15000, in 250141 \n",
      "Files done: 16000, in 250141 \n",
      "Files done: 17000, in 250141 \n",
      "Files done: 18000, in 250141 \n",
      "Files done: 19000, in 250141 \n",
      "Files done: 20000, in 250141 \n",
      "Files done: 21000, in 250141 \n",
      "Files done: 22000, in 250141 \n",
      "Files done: 23000, in 250141 \n",
      "Files done: 24000, in 250141 \n",
      "Files done: 25000, in 250141 \n",
      "Files done: 26000, in 250141 \n",
      "Files done: 27000, in 250141 \n",
      "Files done: 28000, in 250141 \n",
      "Files done: 29000, in 250141 \n",
      "Files done: 30000, in 250141 \n",
      "Files done: 31000, in 250141 \n",
      "Files done: 32000, in 250141 \n",
      "Files done: 33000, in 250141 \n",
      "Files done: 34000, in 250141 \n",
      "Files done: 35000, in 250141 \n",
      "Files done: 36000, in 250141 \n",
      "Files done: 37000, in 250141 \n",
      "Files done: 38000, in 250141 \n",
      "Files done: 39000, in 250141 \n",
      "Files done: 40000, in 250141 \n",
      "Files done: 41000, in 250141 \n",
      "Files done: 42000, in 250141 \n",
      "Files done: 43000, in 250141 \n",
      "Files done: 44000, in 250141 \n",
      "Files done: 45000, in 250141 \n",
      "Files done: 46000, in 250141 \n",
      "Files done: 47000, in 250141 \n",
      "Files done: 48000, in 250141 \n",
      "Files done: 49000, in 250141 \n",
      "Files done: 50000, in 250141 \n",
      "Files done: 51000, in 250141 \n",
      "Files done: 52000, in 250141 \n",
      "Files done: 53000, in 250141 \n",
      "Files done: 54000, in 250141 \n",
      "Files done: 55000, in 250141 \n",
      "Files done: 56000, in 250141 \n",
      "Files done: 57000, in 250141 \n",
      "Files done: 58000, in 250141 \n",
      "Files done: 59000, in 250141 \n",
      "Files done: 60000, in 250141 \n",
      "Files done: 61000, in 250141 \n",
      "Files done: 62000, in 250141 \n",
      "Files done: 63000, in 250141 \n",
      "Files done: 64000, in 250141 \n",
      "Files done: 65000, in 250141 \n",
      "Files done: 66000, in 250141 \n",
      "Files done: 67000, in 250141 \n",
      "Files done: 68000, in 250141 \n",
      "Files done: 69000, in 250141 \n",
      "Files done: 70000, in 250141 \n",
      "Files done: 71000, in 250141 \n",
      "Files done: 72000, in 250141 \n",
      "Files done: 73000, in 250141 \n",
      "Files done: 74000, in 250141 \n",
      "Files done: 75000, in 250141 \n",
      "Files done: 76000, in 250141 \n",
      "Files done: 77000, in 250141 \n",
      "Files done: 78000, in 250141 \n",
      "Files done: 79000, in 250141 \n",
      "Files done: 80000, in 250141 \n",
      "Files done: 81000, in 250141 \n",
      "Files done: 82000, in 250141 \n",
      "Files done: 83000, in 250141 \n",
      "Files done: 84000, in 250141 \n",
      "Files done: 85000, in 250141 \n",
      "Files done: 86000, in 250141 \n",
      "Files done: 87000, in 250141 \n",
      "Files done: 88000, in 250141 \n",
      "Files done: 89000, in 250141 \n",
      "Files done: 90000, in 250141 \n",
      "Files done: 91000, in 250141 \n",
      "Files done: 92000, in 250141 \n",
      "Files done: 93000, in 250141 \n",
      "Files done: 94000, in 250141 \n",
      "Files done: 95000, in 250141 \n",
      "Files done: 96000, in 250141 \n",
      "Files done: 97000, in 250141 \n",
      "Files done: 98000, in 250141 \n",
      "Files done: 99000, in 250141 \n",
      "Files done: 100000, in 250141 \n",
      "Files done: 101000, in 250141 \n",
      "Files done: 102000, in 250141 \n",
      "Files done: 103000, in 250141 \n",
      "Files done: 104000, in 250141 \n",
      "Files done: 105000, in 250141 \n",
      "Files done: 106000, in 250141 \n",
      "Files done: 107000, in 250141 \n",
      "Files done: 108000, in 250141 \n",
      "Files done: 109000, in 250141 \n",
      "Files done: 110000, in 250141 \n",
      "Files done: 111000, in 250141 \n",
      "Files done: 112000, in 250141 \n",
      "Files done: 113000, in 250141 \n",
      "Files done: 114000, in 250141 \n",
      "Files done: 115000, in 250141 \n",
      "Files done: 116000, in 250141 \n",
      "Files done: 117000, in 250141 \n",
      "Files done: 118000, in 250141 \n",
      "Files done: 119000, in 250141 \n",
      "Files done: 120000, in 250141 \n",
      "Files done: 121000, in 250141 \n",
      "Files done: 122000, in 250141 \n",
      "Files done: 123000, in 250141 \n",
      "Files done: 124000, in 250141 \n",
      "Files done: 125000, in 250141 \n",
      "Files done: 126000, in 250141 \n",
      "Files done: 127000, in 250141 \n",
      "Files done: 128000, in 250141 \n",
      "Files done: 129000, in 250141 \n",
      "Files done: 130000, in 250141 \n",
      "Files done: 131000, in 250141 \n",
      "Files done: 132000, in 250141 \n",
      "Files done: 133000, in 250141 \n",
      "Files done: 134000, in 250141 \n",
      "Files done: 135000, in 250141 \n",
      "Files done: 136000, in 250141 \n",
      "Files done: 137000, in 250141 \n",
      "Files done: 138000, in 250141 \n",
      "Files done: 139000, in 250141 \n",
      "Files done: 140000, in 250141 \n",
      "Files done: 141000, in 250141 \n",
      "Files done: 142000, in 250141 \n",
      "Files done: 143000, in 250141 \n",
      "Files done: 144000, in 250141 \n",
      "Files done: 145000, in 250141 \n",
      "Files done: 146000, in 250141 \n",
      "Files done: 147000, in 250141 \n",
      "Files done: 148000, in 250141 \n",
      "Files done: 149000, in 250141 \n",
      "Files done: 150000, in 250141 \n",
      "Files done: 151000, in 250141 \n",
      "Files done: 152000, in 250141 \n",
      "Files done: 153000, in 250141 \n",
      "Files done: 154000, in 250141 \n",
      "Files done: 155000, in 250141 \n",
      "Files done: 156000, in 250141 \n",
      "Files done: 157000, in 250141 \n",
      "Files done: 158000, in 250141 \n",
      "Files done: 159000, in 250141 \n",
      "Files done: 160000, in 250141 \n",
      "Files done: 161000, in 250141 \n",
      "Files done: 162000, in 250141 \n",
      "Files done: 163000, in 250141 \n",
      "Files done: 164000, in 250141 \n",
      "Files done: 165000, in 250141 \n",
      "Files done: 166000, in 250141 \n",
      "Files done: 167000, in 250141 \n",
      "Files done: 168000, in 250141 \n",
      "Files done: 169000, in 250141 \n",
      "Files done: 170000, in 250141 \n",
      "Files done: 171000, in 250141 \n",
      "Files done: 172000, in 250141 \n",
      "Files done: 173000, in 250141 \n",
      "Files done: 174000, in 250141 \n",
      "Files done: 175000, in 250141 \n",
      "Files done: 176000, in 250141 \n",
      "Files done: 177000, in 250141 \n",
      "Files done: 178000, in 250141 \n",
      "Files done: 179000, in 250141 \n",
      "Files done: 180000, in 250141 \n",
      "Files done: 181000, in 250141 \n",
      "Files done: 182000, in 250141 \n",
      "Files done: 183000, in 250141 \n",
      "Files done: 184000, in 250141 \n",
      "Files done: 185000, in 250141 \n",
      "Files done: 186000, in 250141 \n",
      "Files done: 187000, in 250141 \n",
      "Files done: 188000, in 250141 \n",
      "Files done: 189000, in 250141 \n",
      "Files done: 190000, in 250141 \n",
      "Files done: 191000, in 250141 \n",
      "Files done: 192000, in 250141 \n",
      "Files done: 193000, in 250141 \n",
      "Files done: 194000, in 250141 \n",
      "Files done: 195000, in 250141 \n",
      "Files done: 196000, in 250141 \n",
      "Files done: 197000, in 250141 \n",
      "Files done: 198000, in 250141 \n",
      "Files done: 199000, in 250141 \n",
      "Files done: 200000, in 250141 \n",
      "Files done: 201000, in 250141 \n",
      "Files done: 202000, in 250141 \n",
      "Files done: 203000, in 250141 \n",
      "Files done: 204000, in 250141 \n",
      "Files done: 205000, in 250141 \n",
      "Files done: 206000, in 250141 \n",
      "Files done: 207000, in 250141 \n",
      "Files done: 208000, in 250141 \n",
      "Files done: 209000, in 250141 \n",
      "Files done: 210000, in 250141 \n",
      "Files done: 211000, in 250141 \n",
      "Files done: 212000, in 250141 \n",
      "Files done: 213000, in 250141 \n",
      "Files done: 214000, in 250141 \n",
      "Files done: 215000, in 250141 \n",
      "Files done: 216000, in 250141 \n",
      "Files done: 217000, in 250141 \n",
      "Files done: 218000, in 250141 \n",
      "Files done: 219000, in 250141 \n",
      "Files done: 220000, in 250141 \n",
      "Files done: 221000, in 250141 \n",
      "Files done: 222000, in 250141 \n",
      "Files done: 223000, in 250141 \n",
      "Files done: 224000, in 250141 \n",
      "Files done: 225000, in 250141 \n",
      "Files done: 226000, in 250141 \n",
      "Files done: 227000, in 250141 \n",
      "Files done: 228000, in 250141 \n",
      "Files done: 229000, in 250141 \n",
      "Files done: 230000, in 250141 \n",
      "Files done: 231000, in 250141 \n",
      "Files done: 232000, in 250141 \n",
      "Files done: 233000, in 250141 \n",
      "Files done: 234000, in 250141 \n",
      "Files done: 235000, in 250141 \n",
      "Files done: 236000, in 250141 \n",
      "Files done: 237000, in 250141 \n",
      "Files done: 238000, in 250141 \n",
      "Files done: 239000, in 250141 \n",
      "Files done: 240000, in 250141 \n",
      "Files done: 241000, in 250141 \n",
      "Files done: 242000, in 250141 \n",
      "Files done: 243000, in 250141 \n",
      "Files done: 244000, in 250141 \n",
      "Files done: 245000, in 250141 \n",
      "Files done: 246000, in 250141 \n",
      "Files done: 247000, in 250141 \n",
      "Files done: 248000, in 250141 \n",
      "Files done: 249000, in 250141 \n",
      "Files done: 250000, in 250141 \n"
     ]
    }
   ],
   "source": [
    "counter = 0\n",
    "label = []\n",
    "\n",
    "path = []\n",
    "\n",
    "all_files = glob.glob(\"./data/*/*.png\", recursive=True)\n",
    "for file in all_files:\n",
    "    if counter%1000 == 0:\n",
    "        print(f\"Files done: {counter}, in {len(all_files)} \")\n",
    "    label.append(extract_class(file))\n",
    "    path.append(file)\n",
    "    counter= counter +1\n",
    "    # if counter == 50:\n",
    "    #     break"
   ],
   "metadata": {
    "collapsed": false,
    "pycharm": {
     "name": "#%%\n"
    }
   }
  },
  {
   "cell_type": "code",
   "execution_count": 6,
   "outputs": [],
   "source": [
    "path = pd.Series(path, name=\"path\")\n",
    "label = pd.Series(label,name=\"label\")"
   ],
   "metadata": {
    "collapsed": false,
    "pycharm": {
     "name": "#%%\n"
    }
   }
  },
  {
   "cell_type": "code",
   "execution_count": 7,
   "outputs": [
    {
     "data": {
      "text/plain": "                                      path label\n0                       ./data\\+\\+_1_0.png     +\n1         ./data\\+\\+_1_0_scaled_x1y1_2.png     +\n2         ./data\\+\\+_1_0_scaled_x1y1_3.png     +\n3         ./data\\+\\+_1_0_scaled_x1_2y1.png     +\n4       ./data\\+\\+_1_0_scaled_x1_2y1_2.png     +\n...                                    ...   ...\n250136  ./data\\9\\9_3_9_scaled_x1_2y1_2.png     9\n250137  ./data\\9\\9_3_9_scaled_x1_2y1_3.png     9\n250138    ./data\\9\\9_3_9_scaled_x1_3y1.png     9\n250139  ./data\\9\\9_3_9_scaled_x1_3y1_2.png     9\n250140  ./data\\9\\9_3_9_scaled_x1_3y1_3.png     9\n\n[250141 rows x 2 columns]",
      "text/html": "<div>\n<style scoped>\n    .dataframe tbody tr th:only-of-type {\n        vertical-align: middle;\n    }\n\n    .dataframe tbody tr th {\n        vertical-align: top;\n    }\n\n    .dataframe thead th {\n        text-align: right;\n    }\n</style>\n<table border=\"1\" class=\"dataframe\">\n  <thead>\n    <tr style=\"text-align: right;\">\n      <th></th>\n      <th>path</th>\n      <th>label</th>\n    </tr>\n  </thead>\n  <tbody>\n    <tr>\n      <th>0</th>\n      <td>./data\\+\\+_1_0.png</td>\n      <td>+</td>\n    </tr>\n    <tr>\n      <th>1</th>\n      <td>./data\\+\\+_1_0_scaled_x1y1_2.png</td>\n      <td>+</td>\n    </tr>\n    <tr>\n      <th>2</th>\n      <td>./data\\+\\+_1_0_scaled_x1y1_3.png</td>\n      <td>+</td>\n    </tr>\n    <tr>\n      <th>3</th>\n      <td>./data\\+\\+_1_0_scaled_x1_2y1.png</td>\n      <td>+</td>\n    </tr>\n    <tr>\n      <th>4</th>\n      <td>./data\\+\\+_1_0_scaled_x1_2y1_2.png</td>\n      <td>+</td>\n    </tr>\n    <tr>\n      <th>...</th>\n      <td>...</td>\n      <td>...</td>\n    </tr>\n    <tr>\n      <th>250136</th>\n      <td>./data\\9\\9_3_9_scaled_x1_2y1_2.png</td>\n      <td>9</td>\n    </tr>\n    <tr>\n      <th>250137</th>\n      <td>./data\\9\\9_3_9_scaled_x1_2y1_3.png</td>\n      <td>9</td>\n    </tr>\n    <tr>\n      <th>250138</th>\n      <td>./data\\9\\9_3_9_scaled_x1_3y1.png</td>\n      <td>9</td>\n    </tr>\n    <tr>\n      <th>250139</th>\n      <td>./data\\9\\9_3_9_scaled_x1_3y1_2.png</td>\n      <td>9</td>\n    </tr>\n    <tr>\n      <th>250140</th>\n      <td>./data\\9\\9_3_9_scaled_x1_3y1_3.png</td>\n      <td>9</td>\n    </tr>\n  </tbody>\n</table>\n<p>250141 rows × 2 columns</p>\n</div>"
     },
     "execution_count": 7,
     "metadata": {},
     "output_type": "execute_result"
    }
   ],
   "source": [
    "data = pd.DataFrame()\n",
    "data[\"path\"] = path\n",
    "data[\"label\"] = label\n",
    "data"
   ],
   "metadata": {
    "collapsed": false,
    "pycharm": {
     "name": "#%%\n"
    }
   }
  },
  {
   "cell_type": "code",
   "execution_count": 8,
   "outputs": [],
   "source": [
    "data.groupby(\"label\").count()\n",
    "data.to_csv(\"././data/da_Choncer.csv\")"
   ],
   "metadata": {
    "collapsed": false,
    "pycharm": {
     "name": "#%%\n"
    }
   }
  },
  {
   "cell_type": "code",
   "execution_count": 9,
   "outputs": [
    {
     "data": {
      "text/plain": "        path\nlabel       \n+      22086\n-      21307\n0      20250\n1      20385\n2      20538\n3      21762\n4      21690\n5      20691\n6      20601\n7      19746\n8      20637\n9      20448",
      "text/html": "<div>\n<style scoped>\n    .dataframe tbody tr th:only-of-type {\n        vertical-align: middle;\n    }\n\n    .dataframe tbody tr th {\n        vertical-align: top;\n    }\n\n    .dataframe thead th {\n        text-align: right;\n    }\n</style>\n<table border=\"1\" class=\"dataframe\">\n  <thead>\n    <tr style=\"text-align: right;\">\n      <th></th>\n      <th>path</th>\n    </tr>\n    <tr>\n      <th>label</th>\n      <th></th>\n    </tr>\n  </thead>\n  <tbody>\n    <tr>\n      <th>+</th>\n      <td>22086</td>\n    </tr>\n    <tr>\n      <th>-</th>\n      <td>21307</td>\n    </tr>\n    <tr>\n      <th>0</th>\n      <td>20250</td>\n    </tr>\n    <tr>\n      <th>1</th>\n      <td>20385</td>\n    </tr>\n    <tr>\n      <th>2</th>\n      <td>20538</td>\n    </tr>\n    <tr>\n      <th>3</th>\n      <td>21762</td>\n    </tr>\n    <tr>\n      <th>4</th>\n      <td>21690</td>\n    </tr>\n    <tr>\n      <th>5</th>\n      <td>20691</td>\n    </tr>\n    <tr>\n      <th>6</th>\n      <td>20601</td>\n    </tr>\n    <tr>\n      <th>7</th>\n      <td>19746</td>\n    </tr>\n    <tr>\n      <th>8</th>\n      <td>20637</td>\n    </tr>\n    <tr>\n      <th>9</th>\n      <td>20448</td>\n    </tr>\n  </tbody>\n</table>\n</div>"
     },
     "execution_count": 9,
     "metadata": {},
     "output_type": "execute_result"
    }
   ],
   "source": [
    "data.groupby(\"label\").count()"
   ],
   "metadata": {
    "collapsed": false,
    "pycharm": {
     "name": "#%%\n"
    }
   }
  }
 ],
 "metadata": {
  "kernelspec": {
   "display_name": "Python 3",
   "language": "python",
   "name": "python3"
  },
  "language_info": {
   "codemirror_mode": {
    "name": "ipython",
    "version": 2
   },
   "file_extension": ".py",
   "mimetype": "text/x-python",
   "name": "python",
   "nbconvert_exporter": "python",
   "pygments_lexer": "ipython2",
   "version": "2.7.6"
  }
 },
 "nbformat": 4,
 "nbformat_minor": 0
}